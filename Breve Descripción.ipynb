{
 "cells": [
  {
   "cell_type": "markdown",
   "id": "8f98de24-a2de-4b4a-a9df-eff17d3cf217",
   "metadata": {},
   "source": [
    "# Titanic Data Analysis Repository\r\n",
    "\r\n",
    "Este repositorio contiene una colección de archivos y ejercicios relacionados con el análisis de los datos del Titanic. Los datos provienen de la famosa biblioteca de datasets del Titanic, que es ampliamente utilizada para la práctica de técnicas de análisis de datos y aprendizaje automático.\r\n",
    "\r\n",
    "## Contenido del repositorio\r\n",
    "\r\n",
    "- **CSV Files:** Archivos CSV con los datos originales y procesados del Titanic. Estos archivos contienen información sobre los pasajeros, como edad, género, clase de boleto, tarifa, y si sobrevivieron o no.\r\n",
    "- **Ejercicios Resueltos:** Conjunto de ejercicios y soluciones que abordan diversas preguntas y análisis relacionados con los datos del Titanic. Estos ejercicios incluyen:\r\n",
    "  - Análisis exploratorio de datos (EDA)\r\n",
    "  - Visualización de datos\r\n",
    "  - Modelado predictivo\r\n",
    "  - Evaluación de modelos\r\n",
    "\r\n",
    "## Objetivo\r\n",
    "\r\n",
    "El objetivo de este repositorio es proporcionar un recurso educativo para aquellos que deseen practicar y mejorar sus habilidades en análisis de datos y aprendizaje automático utilizando un dataset clásico y conocido.\r\n",
    "\r\n",
    "## Estructura del Repositorio\r\n",
    "\r\n",
    "- `/data`: Contiene los archivos CSV.\r\n",
    "- `/notebooks`: Contiene los notebooks con los ejercicios resueltos.\r\n",
    "- `/scripts`: Scripts utilizados para procesar y analizar los datos.\r\n",
    "\r\n",
    "## Cómo Contribuir\r\n",
    "\r\n",
    "Si deseas contribuir a este repositorio, por favor sigue estos pasos:\r\n",
    "1. Haz un fork del repositorio.\r\n",
    "2. Crea una nueva rama (`git checkout -b feature/nueva-funcionalidad`).\r\n",
    "3. Realiza tus cambios y haz commits (`git commit -am 'Agrega nueva funcionalidad'`).\r\n",
    "4. Empuja tu rama (`git push origin feature/nueva-funcionalidad`).\r\n",
    "5. Abre un Pull Request.\r\n"
   ]
  },
  {
   "cell_type": "markdown",
   "id": "564dd242-ce56-4302-9735-523cc40ecb2c",
   "metadata": {},
   "source": []
  }
 ],
 "metadata": {
  "kernelspec": {
   "display_name": "Python 3 (ipykernel)",
   "language": "python",
   "name": "python3"
  },
  "language_info": {
   "codemirror_mode": {
    "name": "ipython",
    "version": 3
   },
   "file_extension": ".py",
   "mimetype": "text/x-python",
   "name": "python",
   "nbconvert_exporter": "python",
   "pygments_lexer": "ipython3",
   "version": "3.12.4"
  }
 },
 "nbformat": 4,
 "nbformat_minor": 5
}
